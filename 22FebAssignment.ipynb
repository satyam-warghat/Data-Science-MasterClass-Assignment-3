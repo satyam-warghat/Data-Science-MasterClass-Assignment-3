{
 "cells": [
  {
   "cell_type": "code",
   "execution_count": null,
   "id": "d9163aa8-37e8-4714-80a9-0f92f31a1787",
   "metadata": {},
   "outputs": [],
   "source": [
    "\"\"\"\n",
    "Q1. Create a Pandas Series that contains the following data: 4, 8, 15, 16, 23, and 42. Then, print the series.\n",
    "\"\"\""
   ]
  },
  {
   "cell_type": "code",
   "execution_count": 1,
   "id": "c9007cd6-913d-4701-ad98-4f5b650e227b",
   "metadata": {},
   "outputs": [
    {
     "name": "stdout",
     "output_type": "stream",
     "text": [
      "0     4\n",
      "1     8\n",
      "2    15\n",
      "3    16\n",
      "4    23\n",
      "5    42\n",
      "dtype: int64\n"
     ]
    }
   ],
   "source": [
    "import pandas as pd\n",
    "df = pd.Series([4,8,15,16,23,42])\n",
    "print(df)"
   ]
  },
  {
   "cell_type": "code",
   "execution_count": 2,
   "id": "753bb4e0-8709-40a1-8c5d-e49db7b55992",
   "metadata": {},
   "outputs": [
    {
     "data": {
      "text/plain": [
       "'\\nQ2. Create a variable of list type containing 10 elements in it, and apply pandas.Series function on the\\nvariable print it.\\n'"
      ]
     },
     "execution_count": 2,
     "metadata": {},
     "output_type": "execute_result"
    }
   ],
   "source": [
    "\"\"\"\n",
    "Q2. Create a variable of list type containing 10 elements in it, and apply pandas.Series function on the\n",
    "variable print it.\n",
    "\"\"\""
   ]
  },
  {
   "cell_type": "code",
   "execution_count": 3,
   "id": "4d736c48-e0aa-4155-b7a3-75fbc6ed6643",
   "metadata": {},
   "outputs": [
    {
     "name": "stdout",
     "output_type": "stream",
     "text": [
      "0        1\n",
      "1        2\n",
      "2        3\n",
      "3     ramu\n",
      "4    shamu\n",
      "5        4\n",
      "6        5\n",
      "7        6\n",
      "8        7\n",
      "9        8\n",
      "dtype: object\n"
     ]
    }
   ],
   "source": [
    "series_data = [1,2,3,'ramu','shamu',4,5,6,7,8]\n",
    "df1 = pd.Series(series_data)\n",
    "print(df1)"
   ]
  },
  {
   "cell_type": "code",
   "execution_count": null,
   "id": "6226274a-9400-4210-a6d4-d456b72d4970",
   "metadata": {},
   "outputs": [],
   "source": [
    "\"\"\"\n",
    "Q3 Create pandas Data frame containing Table \n",
    "\"\"\""
   ]
  },
  {
   "cell_type": "code",
   "execution_count": 7,
   "id": "5b97b90f-230f-4f76-b8c7-42675595f272",
   "metadata": {},
   "outputs": [],
   "source": [
    "df3 = pd.DataFrame({\n",
    "                'Name':['Alice','Bob','Claire'],\n",
    "                'Age':[25,30,27],\n",
    "                'Gender':['Female','Male','Female']})"
   ]
  },
  {
   "cell_type": "code",
   "execution_count": 8,
   "id": "be8f0c96-ead8-4aff-8106-a019c0fedc0b",
   "metadata": {},
   "outputs": [
    {
     "data": {
      "text/html": [
       "<div>\n",
       "<style scoped>\n",
       "    .dataframe tbody tr th:only-of-type {\n",
       "        vertical-align: middle;\n",
       "    }\n",
       "\n",
       "    .dataframe tbody tr th {\n",
       "        vertical-align: top;\n",
       "    }\n",
       "\n",
       "    .dataframe thead th {\n",
       "        text-align: right;\n",
       "    }\n",
       "</style>\n",
       "<table border=\"1\" class=\"dataframe\">\n",
       "  <thead>\n",
       "    <tr style=\"text-align: right;\">\n",
       "      <th></th>\n",
       "      <th>Name</th>\n",
       "      <th>Age</th>\n",
       "      <th>Gender</th>\n",
       "    </tr>\n",
       "  </thead>\n",
       "  <tbody>\n",
       "    <tr>\n",
       "      <th>0</th>\n",
       "      <td>Alice</td>\n",
       "      <td>25</td>\n",
       "      <td>Female</td>\n",
       "    </tr>\n",
       "    <tr>\n",
       "      <th>1</th>\n",
       "      <td>Bob</td>\n",
       "      <td>30</td>\n",
       "      <td>Male</td>\n",
       "    </tr>\n",
       "    <tr>\n",
       "      <th>2</th>\n",
       "      <td>Claire</td>\n",
       "      <td>27</td>\n",
       "      <td>Female</td>\n",
       "    </tr>\n",
       "  </tbody>\n",
       "</table>\n",
       "</div>"
      ],
      "text/plain": [
       "     Name  Age  Gender\n",
       "0   Alice   25  Female\n",
       "1     Bob   30    Male\n",
       "2  Claire   27  Female"
      ]
     },
     "execution_count": 8,
     "metadata": {},
     "output_type": "execute_result"
    }
   ],
   "source": [
    "df3"
   ]
  },
  {
   "cell_type": "code",
   "execution_count": null,
   "id": "ae8ed9f0-c94d-49dd-b48b-bb7cf5958c9f",
   "metadata": {},
   "outputs": [],
   "source": [
    "\"\"\"\n",
    "Q4 What is ‘DataFrame’ in pandas and how is it different from pandas.series? Explain with an example.\n",
    "\"\"\""
   ]
  },
  {
   "cell_type": "code",
   "execution_count": 9,
   "id": "12731c03-6b42-4226-87d5-693994e8dba6",
   "metadata": {},
   "outputs": [
    {
     "name": "stdout",
     "output_type": "stream",
     "text": [
      "     Name  Age  Gender\n",
      "0   Alice   25  Female\n",
      "1     Bob   30    Male\n",
      "2  Claire   27  Female\n",
      "<class 'pandas.core.frame.DataFrame'>\n",
      "0    1\n",
      "1    2\n",
      "2    3\n",
      "3    4\n",
      "4    5\n",
      "dtype: int64\n",
      "<class 'pandas.core.series.Series'>\n"
     ]
    }
   ],
   "source": [
    "\"\"\"\n",
    "In Pandas DataFrame is a two dimesional labelled array Here data is organized in rows and columns\n",
    "In Pandas Series is one dimesional labelled array here data is organized in single columns\n",
    "\n",
    "\"\"\"\n",
    "\n",
    "# Example of Dataframe\n",
    "df3 = pd.DataFrame({\n",
    "                'Name':['Alice','Bob','Claire'],\n",
    "                'Age':[25,30,27],\n",
    "                'Gender':['Female','Male','Female']})\n",
    "print(df3)\n",
    "print(type(df3))\n",
    "\n",
    "\n",
    "df4 = pd.Series([1,2,3,4,5])\n",
    "print(df4)\n",
    "print(type(df4))"
   ]
  },
  {
   "cell_type": "code",
   "execution_count": null,
   "id": "347d6f36-a6d9-4c9f-b80d-638944303030",
   "metadata": {},
   "outputs": [],
   "source": [
    "\"\"\"\n",
    "Q5. What are some common functions you can use to manipulate data in a Pandas DataFrame? Can\n",
    "you give an example of when you might use one of these functions?\n",
    "\"\"\"\n"
   ]
  },
  {
   "cell_type": "code",
   "execution_count": 12,
   "id": "e2f094e2-64df-4171-9717-dfd0f95e568e",
   "metadata": {},
   "outputs": [
    {
     "name": "stdout",
     "output_type": "stream",
     "text": [
      "head\n",
      "     Name  Age  Gender\n",
      "0   Alice   25  Female\n",
      "1     Bob   30    Male\n",
      "2  Claire   27  Female\n",
      "tail\n",
      "     Name  Age  Gender\n",
      "0   Alice   25  Female\n",
      "1     Bob   30    Male\n",
      "2  Claire   27  Female\n",
      "Info \n",
      "<class 'pandas.core.frame.DataFrame'>\n",
      "RangeIndex: 3 entries, 0 to 2\n",
      "Data columns (total 3 columns):\n",
      " #   Column  Non-Null Count  Dtype \n",
      "---  ------  --------------  ----- \n",
      " 0   Name    3 non-null      object\n",
      " 1   Age     3 non-null      int64 \n",
      " 2   Gender  3 non-null      object\n",
      "dtypes: int64(1), object(2)\n",
      "memory usage: 200.0+ bytes\n",
      "None\n",
      "Describe\n",
      "             Age\n",
      "count   3.000000\n",
      "mean   27.333333\n",
      "std     2.516611\n",
      "min    25.000000\n",
      "25%    26.000000\n",
      "50%    27.000000\n",
      "75%    28.500000\n",
      "max    30.000000\n"
     ]
    }
   ],
   "source": [
    "# Some common function we can use to manipulate data in a pandas Dataframe are head,tail,info,describe,shape\n",
    "#head()  To get first n value default is 5 if less than 5 then print all \n",
    "print(\"head\")\n",
    "print(df3.head())\n",
    "# tail()  To get last n value  default is 5 if less than 5 then print all\n",
    "print(\"tail\")\n",
    "print(df3.tail())\n",
    "# info() It print the summary of data frame which include column name , number of value , datatype ,memory usage\n",
    "print(\"Info \")\n",
    "print(df3.info())\n",
    "# describe () IT is very helpful function it gives value of count , mean ,standard deviation , min , percentile value\n",
    "print(\"Describe\")\n",
    "print(df3.describe())"
   ]
  },
  {
   "cell_type": "code",
   "execution_count": 13,
   "id": "2cc624dd-3955-4f92-8ad6-92c5ce5d0a55",
   "metadata": {},
   "outputs": [
    {
     "data": {
      "text/plain": [
       "'\\nQ6. Which of the following is mutable in nature Series, DataFrame, Panel?\\n'"
      ]
     },
     "execution_count": 13,
     "metadata": {},
     "output_type": "execute_result"
    }
   ],
   "source": [
    "\"\"\"\n",
    "Q6. Which of the following is mutable in nature Series, DataFrame, Panel?\n",
    "\"\"\"\n",
    "# Series and Dataframe is mutable Panel is immutable"
   ]
  },
  {
   "cell_type": "code",
   "execution_count": null,
   "id": "47b287ec-0a40-4191-8fe2-c8aebc561f15",
   "metadata": {},
   "outputs": [],
   "source": [
    "\"\"\"\n",
    "Q7. Create a DataFrame using multiple Series. Explain with an example.\n",
    "\"\"\"\n",
    "\n",
    "# we can create data frame by passing multiple series "
   ]
  },
  {
   "cell_type": "code",
   "execution_count": 21,
   "id": "3ac584e4-8b6b-4a31-96c7-91bb7866e7ef",
   "metadata": {},
   "outputs": [
    {
     "name": "stdout",
     "output_type": "stream",
     "text": [
      "   number  squared  cubed\n",
      "0       1        1      1\n",
      "1       2        4      8\n",
      "2       3        9     27\n"
     ]
    }
   ],
   "source": [
    "A = pd.Series([1,2,3])\n",
    "B = pd.Series([1,4,9])\n",
    "C = pd.Series([1,8,27])\n",
    "df4 = pd.DataFrame({'number':A,'squared':B,'cubed':C})\n",
    "print(df4)\n",
    "\n",
    "# Here first I created 3 series A,B,C and then passed it as a dictionary where key is column name I want and value is each series"
   ]
  },
  {
   "cell_type": "code",
   "execution_count": null,
   "id": "95ed4e44-c424-4566-be4c-f72f0ad33544",
   "metadata": {},
   "outputs": [],
   "source": []
  }
 ],
 "metadata": {
  "kernelspec": {
   "display_name": "Python 3 (ipykernel)",
   "language": "python",
   "name": "python3"
  },
  "language_info": {
   "codemirror_mode": {
    "name": "ipython",
    "version": 3
   },
   "file_extension": ".py",
   "mimetype": "text/x-python",
   "name": "python",
   "nbconvert_exporter": "python",
   "pygments_lexer": "ipython3",
   "version": "3.10.8"
  }
 },
 "nbformat": 4,
 "nbformat_minor": 5
}
